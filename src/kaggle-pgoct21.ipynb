{
 "cells": [
  {
   "cell_type": "code",
   "execution_count": 224,
   "metadata": {},
   "outputs": [
    {
     "name": "stdout",
     "output_type": "stream",
     "text": [
      "\n",
      "     active environment : kaggle-pgoct21\n",
      "    active env location : C:\\ProgramData\\Anaconda3\\envs\\kaggle-pgoct21\n",
      "            shell level : 1\n",
      "       user config file : C:\\Users\\globetrekker\\.condarc\n",
      " populated config files : C:\\Users\\globetrekker\\.condarc\n",
      "          conda version : 4.10.1\n",
      "    conda-build version : 3.21.4\n",
      "         python version : 3.8.8.final.0\n",
      "       virtual packages : __win=0=0\n",
      "                          __archspec=1=x86_64\n",
      "       base environment : C:\\ProgramData\\Anaconda3  (writable)\n",
      "      conda av data dir : C:\\ProgramData\\Anaconda3\\etc\\conda\n",
      "  conda av metadata url : https://repo.anaconda.com/pkgs/main\n",
      "           channel URLs : https://repo.anaconda.com/pkgs/main/win-64\n",
      "                          https://repo.anaconda.com/pkgs/main/noarch\n",
      "                          https://repo.anaconda.com/pkgs/r/win-64\n",
      "                          https://repo.anaconda.com/pkgs/r/noarch\n",
      "                          https://repo.anaconda.com/pkgs/msys2/win-64\n",
      "                          https://repo.anaconda.com/pkgs/msys2/noarch\n",
      "          package cache : C:\\ProgramData\\Anaconda3\\pkgs\n",
      "                          C:\\Users\\globetrekker\\.conda\\pkgs\n",
      "                          C:\\Users\\globetrekker\\AppData\\Local\\conda\\conda\\pkgs\n",
      "       envs directories : C:\\ProgramData\\Anaconda3\\envs\n",
      "                          C:\\Users\\globetrekker\\.conda\\envs\n",
      "                          C:\\Users\\globetrekker\\AppData\\Local\\conda\\conda\\envs\n",
      "               platform : win-64\n",
      "             user-agent : conda/4.10.1 requests/2.25.1 CPython/3.8.8 Windows/10 Windows/10.0.19041\n",
      "          administrator : False\n",
      "             netrc file : None\n",
      "           offline mode : False\n",
      "\n"
     ]
    }
   ],
   "source": [
    "!conda info"
   ]
  },
  {
   "cell_type": "code",
   "execution_count": 225,
   "metadata": {
    "_cell_guid": "b1076dfc-b9ad-4769-8c92-a6c4dae69d19",
    "_uuid": "8f2839f25d086af736a60e9eeb907d3b93b6e0e5",
    "execution": {
     "iopub.execute_input": "2021-10-28T07:49:37.694048Z",
     "iopub.status.busy": "2021-10-28T07:49:37.693612Z",
     "iopub.status.idle": "2021-10-28T07:49:38.788667Z",
     "shell.execute_reply": "2021-10-28T07:49:38.787790Z",
     "shell.execute_reply.started": "2021-10-28T07:49:37.694014Z"
    }
   },
   "outputs": [],
   "source": [
    "import numpy as np\n",
    "import pandas as pd\n",
    "import matplotlib.pyplot as plt\n",
    "import gc, time, copy\n",
    "import utility as ut"
   ]
  },
  {
   "cell_type": "code",
   "execution_count": 226,
   "metadata": {
    "execution": {
     "iopub.execute_input": "2021-10-28T07:49:38.790109Z",
     "iopub.status.busy": "2021-10-28T07:49:38.789862Z",
     "iopub.status.idle": "2021-10-28T07:49:39.943032Z",
     "shell.execute_reply": "2021-10-28T07:49:39.942368Z",
     "shell.execute_reply.started": "2021-10-28T07:49:38.790079Z"
    }
   },
   "outputs": [],
   "source": [
    "from sklearn.cluster import KMeans\n",
    "from sklearn.model_selection import train_test_split, cross_val_score\n",
    "from sklearn.metrics import roc_auc_score"
   ]
  },
  {
   "cell_type": "code",
   "execution_count": 1,
   "metadata": {},
   "outputs": [
    {
     "ename": "ModuleNotFoundError",
     "evalue": "No module named 'lightgbm'",
     "output_type": "error",
     "traceback": [
      "\u001b[1;31m---------------------------------------------------------------------------\u001b[0m",
      "\u001b[1;31mModuleNotFoundError\u001b[0m                       Traceback (most recent call last)",
      "\u001b[1;32m<ipython-input-1-e5342fc3e609>\u001b[0m in \u001b[0;36m<module>\u001b[1;34m\u001b[0m\n\u001b[1;32m----> 1\u001b[1;33m \u001b[1;32mfrom\u001b[0m \u001b[0mlightgbm\u001b[0m \u001b[1;32mimport\u001b[0m \u001b[0mLGBMClassifier\u001b[0m\u001b[1;33m\u001b[0m\u001b[1;33m\u001b[0m\u001b[0m\n\u001b[0m\u001b[0;32m      2\u001b[0m \u001b[1;32mfrom\u001b[0m \u001b[0msklearn\u001b[0m\u001b[1;33m.\u001b[0m\u001b[0mlinear_model\u001b[0m \u001b[1;32mimport\u001b[0m \u001b[0mLogisticRegression\u001b[0m\u001b[1;33m\u001b[0m\u001b[1;33m\u001b[0m\u001b[0m\n",
      "\u001b[1;31mModuleNotFoundError\u001b[0m: No module named 'lightgbm'"
     ]
    }
   ],
   "source": [
    "from lightgbm import LGBMClassifier\n",
    "from sklearn.linear_model import LogisticRegression"
   ]
  },
  {
   "cell_type": "code",
   "execution_count": 228,
   "metadata": {},
   "outputs": [],
   "source": [
    "df_train = pd.read_csv('../input/tabular-playground-series-oct-2021/train.csv')\n",
    "df_test = pd.read_csv('../input/tabular-playground-series-oct-2021/test.csv')\n",
    "\n",
    "memory_usage = df_train.memory_usage(deep=True) / 1024 ** 2\n",
    "start_mem = memory_usage.sum()"
   ]
  },
  {
   "cell_type": "markdown",
   "metadata": {},
   "source": [
    "#### Resize models"
   ]
  },
  {
   "cell_type": "code",
   "execution_count": 229,
   "metadata": {},
   "outputs": [],
   "source": [
    "ids = df_test['id']\n",
    "df_train.drop('id', axis=1, inplace=True)\n",
    "df_test.drop('id', axis=1, inplace=True)"
   ]
  },
  {
   "cell_type": "code",
   "execution_count": 230,
   "metadata": {},
   "outputs": [],
   "source": [
    "feature_cols = [col for col in df_test.columns.tolist()]\n",
    "\n",
    "continuous_features =[]\n",
    "categorical_features =[]\n",
    "\n",
    "for col in feature_cols:\n",
    "    if df_train[col].dtype=='float64':\n",
    "        continuous_features.append(col)\n",
    "    else:\n",
    "        categorical_features.append(col)\n",
    "        \n",
    "\n",
    "df_train[continuous_features] = df_train[continuous_features].astype('float32')\n",
    "df_train[categorical_features] = df_train[categorical_features].astype('uint8')\n",
    "\n",
    "df_test[continuous_features] = df_test[continuous_features].astype('float32')\n",
    "df_test[categorical_features] = df_test[categorical_features].astype('uint8')\n",
    "\n",
    "memory_usage = df_in.memory_usage(deep=True) / 1024 ** 2\n",
    "end_mem = memory_usage.sum()"
   ]
  },
  {
   "cell_type": "code",
   "execution_count": 231,
   "metadata": {},
   "outputs": [
    {
     "name": "stdout",
     "output_type": "stream",
     "text": [
      "Start mem: 2189.6363525390625\n",
      "End mem: 970.840576171875\n"
     ]
    }
   ],
   "source": [
    "print('Start mem: ' + str(start_mem))\n",
    "print('End mem: ' + str(end_mem))"
   ]
  },
  {
   "cell_type": "markdown",
   "metadata": {},
   "source": [
    "#### Initial scores"
   ]
  },
  {
   "cell_type": "code",
   "execution_count": 232,
   "metadata": {},
   "outputs": [],
   "source": [
    "cols = list(df_test.columns)\n",
    "X = df_train[cols]\n",
    "y = df_train['target']\n",
    "\n",
    "X_train, X_val, y_train, y_val = train_test_split(X, y, test_size=0.2, train_size=0.8)"
   ]
  },
  {
   "cell_type": "code",
   "execution_count": 233,
   "metadata": {},
   "outputs": [
    {
     "name": "stdout",
     "output_type": "stream",
     "text": [
      "0.8550085230381302\n",
      "Wall time: 14min 34s\n"
     ]
    }
   ],
   "source": [
    "%%time\n",
    "\n",
    "model = LGBMClassifier(verbose=-1, random_state=5, n_estimators=400) # parameters through hyperparameter tuning\n",
    "score = cross_val_score(model, X_train, y_train, cv=5, scoring='roc_auc').mean()\n",
    "print(score)\n",
    "# 0.8550085230381302"
   ]
  },
  {
   "cell_type": "markdown",
   "metadata": {},
   "source": [
    "#### Get important features"
   ]
  },
  {
   "cell_type": "code",
   "execution_count": 234,
   "metadata": {},
   "outputs": [
    {
     "name": "stdout",
     "output_type": "stream",
     "text": [
      "['f22', 'f179', 'f69', 'f156', 'f58', 'f214', 'f78', 'f136', 'f8', 'f43', 'f247', 'f200', 'f77', 'f3', 'f134']\n"
     ]
    }
   ],
   "source": [
    "featureScores = ut.get_feature_importances(df_train, 'target', 'classification', 5)\n",
    "featureScores['Abs_score'] = featureScores['Score'] * -1\n",
    "important_features = list(featureScores.sort_values(by='Abs_score').head(15)['Specs'])\n",
    "\n",
    "print(important_features)"
   ]
  },
  {
   "cell_type": "markdown",
   "metadata": {},
   "source": [
    "#### KMeans clustering"
   ]
  },
  {
   "cell_type": "code",
   "execution_count": 235,
   "metadata": {},
   "outputs": [],
   "source": [
    "n_clusters = 10"
   ]
  },
  {
   "cell_type": "code",
   "execution_count": 236,
   "metadata": {},
   "outputs": [
    {
     "name": "stdout",
     "output_type": "stream",
     "text": [
      "Wall time: 29.4 s\n"
     ]
    },
    {
     "data": {
      "text/plain": [
       "KMeans(n_clusters=10, random_state=0)"
      ]
     },
     "execution_count": 236,
     "metadata": {},
     "output_type": "execute_result"
    }
   ],
   "source": [
    "%%time\n",
    "\n",
    "kmeans = KMeans(n_clusters=n_clusters, random_state=0)\n",
    "kmeans.fit(X_train[important_features])"
   ]
  },
  {
   "cell_type": "code",
   "execution_count": 237,
   "metadata": {},
   "outputs": [],
   "source": [
    "# kmeans.cluster_centers_"
   ]
  },
  {
   "cell_type": "code",
   "execution_count": 238,
   "metadata": {},
   "outputs": [],
   "source": [
    "# kmeans.labels_"
   ]
  },
  {
   "cell_type": "markdown",
   "metadata": {},
   "source": [
    "#### Get score by adding label"
   ]
  },
  {
   "cell_type": "code",
   "execution_count": 239,
   "metadata": {},
   "outputs": [
    {
     "name": "stdout",
     "output_type": "stream",
     "text": [
      "0.8550200668172574\n",
      "Wall time: 18min 33s\n"
     ]
    }
   ],
   "source": [
    "%%time\n",
    "\n",
    "X_train['cluster'] = kmeans.predict(X_train[important_features])\n",
    "score = cross_val_score(model, X_train, y_train, cv=5, scoring='roc_auc').mean()\n",
    "print(score)\n",
    "# 0.8550200668172574"
   ]
  },
  {
   "cell_type": "markdown",
   "metadata": {},
   "source": [
    "#### Get score by adding cluster distances"
   ]
  },
  {
   "cell_type": "code",
   "execution_count": 240,
   "metadata": {},
   "outputs": [
    {
     "name": "stdout",
     "output_type": "stream",
     "text": [
      "Wall time: 1.82 s\n"
     ]
    }
   ],
   "source": [
    "%%time\n",
    "\n",
    "X_train = X_train[cols]\n",
    "X_test = X_test[cols]\n",
    "cluster_cols = [f\"cluster{i+1}\" for i in range(n_clusters)]\n",
    "\n",
    "train_cluster_distances = kmeans.transform(X_train[important_features])\n",
    "X_train_cluster_distances = pd.DataFrame(train_cluster_distances, columns=cluster_cols, index=X_train.index)\n",
    "X_train = X_train.join(X_train_cluster_distances)"
   ]
  },
  {
   "cell_type": "code",
   "execution_count": 241,
   "metadata": {},
   "outputs": [
    {
     "name": "stdout",
     "output_type": "stream",
     "text": [
      "0.8549983723571334\n",
      "Wall time: 19min 17s\n"
     ]
    }
   ],
   "source": [
    "%%time\n",
    "\n",
    "score = cross_val_score(model, X_train, y_train, cv=5, scoring='roc_auc').mean()\n",
    "print(score)\n",
    "# 0.8549983723571334"
   ]
  },
  {
   "cell_type": "markdown",
   "metadata": {},
   "source": [
    "#### Get score by adding distance ratios"
   ]
  },
  {
   "cell_type": "code",
   "execution_count": 242,
   "metadata": {},
   "outputs": [
    {
     "name": "stdout",
     "output_type": "stream",
     "text": [
      "Wall time: 5.47 s\n"
     ]
    }
   ],
   "source": [
    "%%time\n",
    "\n",
    "X_train = X_train[cols]\n",
    "X_test = X_test[cols]\n",
    "\n",
    "cluster_cols = [f\"cluster{i+1}\" for i in range(n_clusters)]\n",
    "\n",
    "train_cluster_distances = kmeans.transform(X_train[important_features])\n",
    "X_train_cluster_distances = pd.DataFrame(train_cluster_distances, columns=cluster_cols, index=X_train.index)\n",
    "\n",
    "new_cols = []\n",
    "for i in cluster_cols:\n",
    "    for j in cluster_cols:\n",
    "        if i != j:\n",
    "            new_col_name = i + '_' + j\n",
    "            X_train_cluster_distances[new_col_name] = X_train_cluster_distances[i] / X_train_cluster_distances[j]\n",
    "            new_cols.append(new_col_name)\n",
    "            \n",
    "X_train = X_train.join(X_train_cluster_distances[new_cols])"
   ]
  },
  {
   "cell_type": "code",
   "execution_count": 243,
   "metadata": {},
   "outputs": [
    {
     "name": "stdout",
     "output_type": "stream",
     "text": [
      "0.8547104364915882\n",
      "Wall time: 22min 7s\n"
     ]
    }
   ],
   "source": [
    "%%time\n",
    "\n",
    "score = cross_val_score(model, X_train, y_train, cv=5, scoring='roc_auc').mean()\n",
    "print(score)\n",
    "# 0.8547104364915882"
   ]
  },
  {
   "cell_type": "markdown",
   "metadata": {},
   "source": [
    "#### Remove some less important features"
   ]
  },
  {
   "cell_type": "code",
   "execution_count": 249,
   "metadata": {},
   "outputs": [
    {
     "name": "stdout",
     "output_type": "stream",
     "text": [
      "0.8549385595453453\n",
      "Wall time: 13min 7s\n"
     ]
    }
   ],
   "source": [
    "%%time\n",
    "\n",
    "X_train = X_train[cols]\n",
    "X_test = X_test[cols]\n",
    "\n",
    "less_important_features = list(featureScores.sort_values(by='Abs_score').tail(60)['Specs'])\n",
    "X_temp = copy.deepcopy(X_train)\n",
    "X_temp['cluster'] = kmeans.predict(X_temp[important_features])\n",
    "X_temp.drop(less_important_features, axis=1, inplace=True)\n",
    "\n",
    "score = cross_val_score(model, X_temp, y_train, cv=5, scoring='roc_auc').mean()\n",
    "print(score)"
   ]
  },
  {
   "cell_type": "markdown",
   "metadata": {},
   "source": [
    "#### Get score by adding cluster label and distance ratios"
   ]
  },
  {
   "cell_type": "code",
   "execution_count": null,
   "metadata": {},
   "outputs": [],
   "source": [
    "%%time\n",
    "\n",
    "X_train = X_train[cols]\n",
    "X_test = X_test[cols]\n",
    "\n",
    "X_train['cluster'] = kmeans.predict(X_train[important_features])\n",
    "\n",
    "cluster_cols = [f\"cluster{i+1}\" for i in range(n_clusters)]\n",
    "\n",
    "train_cluster_distances = kmeans.transform(X_train[important_features])\n",
    "X_train_cluster_distances = pd.DataFrame(train_cluster_distances, columns=cluster_cols, index=X_train.index)\n",
    "\n",
    "new_cols = []\n",
    "for i in cluster_cols:\n",
    "    for j in cluster_cols:\n",
    "        if i != j:\n",
    "            new_col_name = i + '_' + j\n",
    "            X_train_cluster_distances[new_col_name] = X_train_cluster_distances[i] / X_train_cluster_distances[j]\n",
    "            new_cols.append(new_col_name)\n",
    "            \n",
    "X_train = X_train.join(X_train_cluster_distances[new_cols])"
   ]
  },
  {
   "cell_type": "code",
   "execution_count": null,
   "metadata": {},
   "outputs": [],
   "source": [
    "%%time\n",
    "\n",
    "score = cross_val_score(model, X_train, y_train, cv=5, scoring='roc_auc').mean()\n",
    "print(score)"
   ]
  },
  {
   "cell_type": "markdown",
   "metadata": {},
   "source": [
    "#### Final X_val modification"
   ]
  },
  {
   "cell_type": "code",
   "execution_count": 250,
   "metadata": {},
   "outputs": [
    {
     "name": "stdout",
     "output_type": "stream",
     "text": [
      "Wall time: 17.8 s\n"
     ]
    }
   ],
   "source": [
    "%%time\n",
    "\n",
    "X_train = X_train[cols]\n",
    "X_val = X_val[cols]\n",
    "\n",
    "kmeans = KMeans(n_clusters=n_clusters, random_state=0)\n",
    "\n",
    "# add cluster class labels\n",
    "kmeans.fit(X_train[important_features])\n",
    "X_train['cluster'] = kmeans.predict(X_train[important_features])\n",
    "X_val['cluster'] = kmeans.predict(X_val[important_features])\n",
    "\n",
    "# add cluster distance ratios - train\n",
    "cluster_cols = [f\"cluster{i+1}\" for i in range(n_clusters)]\n",
    "\n",
    "cluster_distances = kmeans.transform(X_train[important_features])\n",
    "X_train_cluster_distances = pd.DataFrame(cluster_distances, columns=cluster_cols, index=X_train.index)\n",
    "\n",
    "new_cols = []\n",
    "for i in cluster_cols:\n",
    "    for j in cluster_cols:\n",
    "        if i != j:\n",
    "            new_col_name = i + '_' + j\n",
    "            X_train_cluster_distances[new_col_name] = X_train_cluster_distances[i] / X_train_cluster_distances[j]\n",
    "            new_cols.append(new_col_name)\n",
    "            \n",
    "X_train = X_train.join(X_train_cluster_distances[new_cols])\n",
    "\n",
    "# add cluster distance ratios - val\n",
    "cluster_distances_val = kmeans.transform(X_val[important_features])\n",
    "X_val_cluster_distances = pd.DataFrame(cluster_distances_val, columns=cluster_cols, index=X_val.index)\n",
    "\n",
    "new_cols = []\n",
    "for i in cluster_cols:\n",
    "    for j in cluster_cols:\n",
    "        if i != j:\n",
    "            new_col_name = i + '_' + j\n",
    "            X_val_cluster_distances[new_col_name] = X_val_cluster_distances[i] / X_val_cluster_distances[j]\n",
    "            new_cols.append(new_col_name)\n",
    "            \n",
    "X_val = X_val.join(X_val_cluster_distances[new_cols])"
   ]
  },
  {
   "cell_type": "code",
   "execution_count": null,
   "metadata": {},
   "outputs": [],
   "source": [
    "%%time\n",
    "\n",
    "model = LGBMClassifier(verbose=-1, random_state=5, n_estimators=400)\n",
    "model.fit(X_train, y_train)\n",
    "preds = model.predict(X_val)\n",
    "score = roc_auc_score(y_val, preds)\n",
    "print(score)\n",
    "# 0.7673037557447102"
   ]
  },
  {
   "cell_type": "markdown",
   "metadata": {},
   "source": [
    "#### Final test set modification"
   ]
  },
  {
   "cell_type": "code",
   "execution_count": 254,
   "metadata": {},
   "outputs": [
    {
     "name": "stdout",
     "output_type": "stream",
     "text": [
      "Wall time: 2.42 s\n"
     ]
    }
   ],
   "source": [
    "%%time\n",
    "\n",
    "df_test = df_test[cols]\n",
    "# add cluster class labels\n",
    "df_test['cluster'] = kmeans.predict(df_test[important_features])\n",
    "\n",
    "# add cluster distance ratios - test\n",
    "cluster_cols = [f\"cluster{i+1}\" for i in range(n_clusters)]\n",
    "cluster_distances_test = kmeans.transform(df_test[important_features])\n",
    "df_test_cluster_distances = pd.DataFrame(cluster_distances_test, columns=cluster_cols, index=df_test.index)\n",
    "\n",
    "new_cols = []\n",
    "for i in cluster_cols:\n",
    "    for j in cluster_cols:\n",
    "        if i != j:\n",
    "            new_col_name = i + '_' + j\n",
    "            df_test_cluster_distances[new_col_name] = df_test_cluster_distances[i] / df_test_cluster_distances[j]\n",
    "            new_cols.append(new_col_name)\n",
    "            \n",
    "df_test = df_test.join(df_test_cluster_distances[new_cols])"
   ]
  },
  {
   "cell_type": "markdown",
   "metadata": {},
   "source": [
    "#### Final test prediction"
   ]
  },
  {
   "cell_type": "code",
   "execution_count": 256,
   "metadata": {},
   "outputs": [],
   "source": [
    "preds = model.predict(df_test)\n",
    "timestamp = time.time()\n",
    "timestamp_str = str(time.strftime(\"%Y%m%d_%H%M%S\", time.gmtime(timestamp)))\n",
    "filename = 'output_' + timestamp_str + '.csv'\n",
    "print(filename)\n",
    "output = pd.DataFrame({'id': ids, 'target': preds})\n",
    "output.to_csv(filename, index=False)"
   ]
  }
 ],
 "metadata": {
  "kernelspec": {
   "display_name": "Python 3 (ipykernel)",
   "language": "python",
   "name": "python3"
  },
  "language_info": {
   "codemirror_mode": {
    "name": "ipython",
    "version": 3
   },
   "file_extension": ".py",
   "mimetype": "text/x-python",
   "name": "python",
   "nbconvert_exporter": "python",
   "pygments_lexer": "ipython3",
   "version": "3.9.7"
  }
 },
 "nbformat": 4,
 "nbformat_minor": 4
}
